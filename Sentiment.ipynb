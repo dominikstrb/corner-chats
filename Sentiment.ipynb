{
 "cells": [
  {
   "cell_type": "code",
   "execution_count": 2,
   "metadata": {},
   "outputs": [
    {
     "data": {
      "text/html": [
       "<div>\n",
       "<style scoped>\n",
       "    .dataframe tbody tr th:only-of-type {\n",
       "        vertical-align: middle;\n",
       "    }\n",
       "\n",
       "    .dataframe tbody tr th {\n",
       "        vertical-align: top;\n",
       "    }\n",
       "\n",
       "    .dataframe thead th {\n",
       "        text-align: right;\n",
       "    }\n",
       "</style>\n",
       "<table border=\"1\" class=\"dataframe\">\n",
       "  <thead>\n",
       "    <tr style=\"text-align: right;\">\n",
       "      <th></th>\n",
       "      <th>name</th>\n",
       "      <th>text</th>\n",
       "    </tr>\n",
       "    <tr>\n",
       "      <th>date</th>\n",
       "      <th></th>\n",
       "      <th></th>\n",
       "    </tr>\n",
       "  </thead>\n",
       "  <tbody>\n",
       "    <tr>\n",
       "      <th>2019-12-20 18:03:34+00:00</th>\n",
       "      <td>Niklas</td>\n",
       "      <td>Geilo</td>\n",
       "    </tr>\n",
       "    <tr>\n",
       "      <th>2019-12-20 18:02:14+00:00</th>\n",
       "      <td>John</td>\n",
       "      <td>Ai!</td>\n",
       "    </tr>\n",
       "    <tr>\n",
       "      <th>2019-12-20 17:59:35+00:00</th>\n",
       "      <td>Felix</td>\n",
       "      <td>😳</td>\n",
       "    </tr>\n",
       "    <tr>\n",
       "      <th>2019-12-20 17:52:53+00:00</th>\n",
       "      <td>Artem</td>\n",
       "      <td>Warten auf Gandalf</td>\n",
       "    </tr>\n",
       "    <tr>\n",
       "      <th>2019-12-20 17:51:07+00:00</th>\n",
       "      <td>Frederik</td>\n",
       "      <td>Sinnlos in mittelerde</td>\n",
       "    </tr>\n",
       "  </tbody>\n",
       "</table>\n",
       "</div>"
      ],
      "text/plain": [
       "                               name                   text\n",
       "date                                                      \n",
       "2019-12-20 18:03:34+00:00    Niklas                  Geilo\n",
       "2019-12-20 18:02:14+00:00      John                    Ai!\n",
       "2019-12-20 17:59:35+00:00     Felix                      😳\n",
       "2019-12-20 17:52:53+00:00     Artem     Warten auf Gandalf\n",
       "2019-12-20 17:51:07+00:00  Frederik  Sinnlos in mittelerde"
      ]
     },
     "execution_count": 2,
     "metadata": {},
     "output_type": "execute_result"
    }
   ],
   "source": [
    "import pandas as pd\n",
    "import matplotlib.pyplot as plt\n",
    "import numpy as np\n",
    "\n",
    "df = pd.read_csv(\"data/corner_2019.csv\")\n",
    "df = df.dropna().drop(\"Unnamed: 0\", axis=1)\n",
    "df.index = pd.to_datetime(df.date)\n",
    "df = df.drop(\"date\", axis=1)\n",
    "df.head()"
   ]
  },
  {
   "cell_type": "code",
   "execution_count": 44,
   "metadata": {},
   "outputs": [
    {
     "data": {
      "text/plain": [
       "1.0"
      ]
     },
     "execution_count": 44,
     "metadata": {},
     "output_type": "execute_result"
    }
   ],
   "source": [
    "from textblob_de import TextBlobDE as TextBlob\n",
    "\n",
    "TextBlob(\"ja lasst euch gut gehen ihr süßis\").polarity"
   ]
  },
  {
   "cell_type": "code",
   "execution_count": 45,
   "metadata": {},
   "outputs": [
    {
     "data": {
      "text/plain": [
       "-1.0"
      ]
     },
     "execution_count": 45,
     "metadata": {},
     "output_type": "execute_result"
    }
   ],
   "source": [
    "TextBlob(\"Ich denke halt, dass die Unternehmen sich damit eher selber schaden durch die schlechte Publicity, die sie dadurch dann eben indirekt bekommen\").polarity"
   ]
  },
  {
   "cell_type": "code",
   "execution_count": 38,
   "metadata": {},
   "outputs": [],
   "source": [
    "df[\"polarity\"] = df.text.apply(lambda x: TextBlob(x).polarity)"
   ]
  },
  {
   "cell_type": "code",
   "execution_count": 81,
   "metadata": {},
   "outputs": [],
   "source": [
    "df[\"subjectivity\"] = df.text.apply(lambda x: TextBlob(x).subjectivity)"
   ]
  },
  {
   "cell_type": "code",
   "execution_count": null,
   "outputs": [],
   "source": [
    "df.groupby(\"name\").mean()[\"polarity\"].sort_values().plot(kind=\"bar\")\n",
    "plt.xlabel(\"Name\")\n",
    "plt.ylabel(\"Average polarity\")\n",
    "plt.tight_layout()\n",
    "plt.title(\"Polarity\")\n",
    "plt.savefig(\"results/avg_polarity.png\")"
   ],
   "metadata": {
    "collapsed": false,
    "pycharm": {
     "name": "#%%\n"
    }
   }
  },
  {
   "cell_type": "code",
   "execution_count": null,
   "outputs": [],
   "source": [
    "f, ax = plt.subplots()\n",
    "for name, sub_df in df.groupby(\"name\"):\n",
    "    mean_polarity = sub_df.groupby(sub_df.index.month).mean()\n",
    "    ax.plot(mean_polarity, label=name)\n",
    "    \n",
    "ax.set_xlim(0, 18)    \n",
    "ax.set_xticks([0, 3, 6, 9, 12])\n",
    "ax.legend()\n",
    "f.savefig(\"results/polarity.png\")"
   ],
   "metadata": {
    "collapsed": false,
    "pycharm": {
     "name": "#%%\n"
    }
   }
  },
  {
   "cell_type": "code",
   "execution_count": null,
   "outputs": [],
   "source": [
    "df.sort_values(by=\"polarity\", ascending=False)"
   ],
   "metadata": {
    "collapsed": false,
    "pycharm": {
     "name": "#%%\n"
    }
   }
  },
  {
   "cell_type": "code",
   "execution_count": null,
   "outputs": [],
   "source": [
    "df[\"2019-03-26 16:37:12+00:00\"].text.values"
   ],
   "metadata": {
    "collapsed": false,
    "pycharm": {
     "name": "#%%\n"
    }
   }
  },
  {
   "cell_type": "code",
   "execution_count": 60,
   "metadata": {},
   "outputs": [
    {
     "data": {
      "image/png": "[encoded data removed]",
      "text/plain": [
       "<Figure size 432x288 with 1 Axes>"
      ]
     },
     "metadata": {
      "needs_background": "light"
     },
     "output_type": "display_data"
    }
   ],
   "source": []
  },
  {
   "cell_type": "code",
   "execution_count": 80,
   "metadata": {},
   "outputs": [
    {
     "data": {
      "image/png": "[encoded data removed]",
      "text/plain": [
       "<Figure size 432x288 with 1 Axes>"
      ]
     },
     "metadata": {
      "needs_background": "light"
     },
     "output_type": "display_data"
    }
   ],
   "source": [
    "f, ax = plt.subplots()\n",
    "for name, sub_df in df.groupby(\"name\"):\n",
    "    mean_polarity = sub_df.groupby(sub_df.index.month).mean()\n",
    "    ax.plot(mean_polarity, label=name)\n",
    "    \n",
    "ax.set_xlim(0, 18)    \n",
    "ax.set_xticks([0, 3, 6, 9, 12])\n",
    "ax.legend()\n",
    "f.savefig(\"results/polarity.png\")"
   ]
  },
  {
   "cell_type": "code",
   "execution_count": 39,
   "metadata": {},
   "outputs": [
    {
     "data": {
      "text/html": [
       "<div>\n",
       "<style scoped>\n",
       "    .dataframe tbody tr th:only-of-type {\n",
       "        vertical-align: middle;\n",
       "    }\n",
       "\n",
       "    .dataframe tbody tr th {\n",
       "        vertical-align: top;\n",
       "    }\n",
       "\n",
       "    .dataframe thead th {\n",
       "        text-align: right;\n",
       "    }\n",
       "</style>\n",
       "<table border=\"1\" class=\"dataframe\">\n",
       "  <thead>\n",
       "    <tr style=\"text-align: right;\">\n",
       "      <th></th>\n",
       "      <th>name</th>\n",
       "      <th>text</th>\n",
       "      <th>polarity</th>\n",
       "    </tr>\n",
       "    <tr>\n",
       "      <th>date</th>\n",
       "      <th></th>\n",
       "      <th></th>\n",
       "      <th></th>\n",
       "    </tr>\n",
       "  </thead>\n",
       "  <tbody>\n",
       "    <tr>\n",
       "      <th>2019-02-08 15:29:05+00:00</th>\n",
       "      <td>Niklas</td>\n",
       "      <td>Ist halt echt weniger die Lautstärke als vielm...</td>\n",
       "      <td>1.0</td>\n",
       "    </tr>\n",
       "    <tr>\n",
       "      <th>2019-10-26 09:31:00+00:00</th>\n",
       "      <td>Felix</td>\n",
       "      <td>ja lassts euch gut gehen ihr süßis</td>\n",
       "      <td>1.0</td>\n",
       "    </tr>\n",
       "    <tr>\n",
       "      <th>2019-05-14 07:42:57+00:00</th>\n",
       "      <td>John</td>\n",
       "      <td>Klar mach ich das, ich will dabei sein :D</td>\n",
       "      <td>1.0</td>\n",
       "    </tr>\n",
       "    <tr>\n",
       "      <th>2019-02-04 20:54:00+00:00</th>\n",
       "      <td>Niklas</td>\n",
       "      <td>Kann ich sehr empfehlen, da hat Spotify echt w...</td>\n",
       "      <td>1.0</td>\n",
       "    </tr>\n",
       "    <tr>\n",
       "      <th>2019-04-18 12:12:18+00:00</th>\n",
       "      <td>Tillmann</td>\n",
       "      <td>Richtig so fick die uni</td>\n",
       "      <td>1.0</td>\n",
       "    </tr>\n",
       "    <tr>\n",
       "      <th>...</th>\n",
       "      <td>...</td>\n",
       "      <td>...</td>\n",
       "      <td>...</td>\n",
       "    </tr>\n",
       "    <tr>\n",
       "      <th>2019-10-24 14:36:50+00:00</th>\n",
       "      <td>Artem</td>\n",
       "      <td>schlimmes sticker pack</td>\n",
       "      <td>-1.0</td>\n",
       "    </tr>\n",
       "    <tr>\n",
       "      <th>2019-05-17 15:14:59+00:00</th>\n",
       "      <td>Maurits</td>\n",
       "      <td>heftklammer drücken</td>\n",
       "      <td>-1.0</td>\n",
       "    </tr>\n",
       "    <tr>\n",
       "      <th>2019-06-02 09:58:07+00:00</th>\n",
       "      <td>Niklas</td>\n",
       "      <td>war auch provokant</td>\n",
       "      <td>-1.0</td>\n",
       "    </tr>\n",
       "    <tr>\n",
       "      <th>2019-03-26 16:37:12+00:00</th>\n",
       "      <td>Artem</td>\n",
       "      <td>Ich denke halt, dass die Unternehmen sich dami...</td>\n",
       "      <td>-1.0</td>\n",
       "    </tr>\n",
       "    <tr>\n",
       "      <th>2019-03-02 13:06:22+00:00</th>\n",
       "      <td>Felix</td>\n",
       "      <td>ich finds auch bescheuert, aber ich bin auch g...</td>\n",
       "      <td>-1.0</td>\n",
       "    </tr>\n",
       "  </tbody>\n",
       "</table>\n",
       "<p>10343 rows × 3 columns</p>\n",
       "</div>"
      ],
      "text/plain": [
       "                               name  \\\n",
       "date                                  \n",
       "2019-02-08 15:29:05+00:00    Niklas   \n",
       "2019-10-26 09:31:00+00:00     Felix   \n",
       "2019-05-14 07:42:57+00:00      John   \n",
       "2019-02-04 20:54:00+00:00    Niklas   \n",
       "2019-04-18 12:12:18+00:00  Tillmann   \n",
       "...                             ...   \n",
       "2019-10-24 14:36:50+00:00     Artem   \n",
       "2019-05-17 15:14:59+00:00   Maurits   \n",
       "2019-06-02 09:58:07+00:00    Niklas   \n",
       "2019-03-26 16:37:12+00:00     Artem   \n",
       "2019-03-02 13:06:22+00:00     Felix   \n",
       "\n",
       "                                                                        text  \\\n",
       "date                                                                           \n",
       "2019-02-08 15:29:05+00:00  Ist halt echt weniger die Lautstärke als vielm...   \n",
       "2019-10-26 09:31:00+00:00                 ja lassts euch gut gehen ihr süßis   \n",
       "2019-05-14 07:42:57+00:00          Klar mach ich das, ich will dabei sein :D   \n",
       "2019-02-04 20:54:00+00:00  Kann ich sehr empfehlen, da hat Spotify echt w...   \n",
       "2019-04-18 12:12:18+00:00                            Richtig so fick die uni   \n",
       "...                                                                      ...   \n",
       "2019-10-24 14:36:50+00:00                             schlimmes sticker pack   \n",
       "2019-05-17 15:14:59+00:00                                heftklammer drücken   \n",
       "2019-06-02 09:58:07+00:00                                 war auch provokant   \n",
       "2019-03-26 16:37:12+00:00  Ich denke halt, dass die Unternehmen sich dami...   \n",
       "2019-03-02 13:06:22+00:00  ich finds auch bescheuert, aber ich bin auch g...   \n",
       "\n",
       "                           polarity  \n",
       "date                                 \n",
       "2019-02-08 15:29:05+00:00       1.0  \n",
       "2019-10-26 09:31:00+00:00       1.0  \n",
       "2019-05-14 07:42:57+00:00       1.0  \n",
       "2019-02-04 20:54:00+00:00       1.0  \n",
       "2019-04-18 12:12:18+00:00       1.0  \n",
       "...                             ...  \n",
       "2019-10-24 14:36:50+00:00      -1.0  \n",
       "2019-05-17 15:14:59+00:00      -1.0  \n",
       "2019-06-02 09:58:07+00:00      -1.0  \n",
       "2019-03-26 16:37:12+00:00      -1.0  \n",
       "2019-03-02 13:06:22+00:00      -1.0  \n",
       "\n",
       "[10343 rows x 3 columns]"
      ]
     },
     "execution_count": 39,
     "metadata": {},
     "output_type": "execute_result"
    }
   ],
   "source": [
    "df.sort_values(by=\"polarity\", ascending=False)"
   ]
  },
  {
   "cell_type": "code",
   "execution_count": 43,
   "metadata": {},
   "outputs": [
    {
     "data": {
      "text/plain": [
       "array(['Ich denke halt, dass die Unternehmen sich damit eher selber schaden durch die schlechte Publicity, die sie dadurch dann eben indirekt bekommen'],\n",
       "      dtype=object)"
      ]
     },
     "execution_count": 43,
     "metadata": {},
     "output_type": "execute_result"
    }
   ],
   "source": [
    "df[\"2019-03-26 16:37:12+00:00\"].text.values"
   ]
  },
  {
   "cell_type": "code",
   "execution_count": null,
   "metadata": {},
   "outputs": [],
   "source": []
  }
 ],
 "metadata": {
  "kernelspec": {
   "display_name": "Python 3",
   "language": "python",
   "name": "python3"
  },
  "language_info": {
   "codemirror_mode": {
    "name": "ipython",
    "version": 3
   },
   "file_extension": ".py",
   "mimetype": "text/x-python",
   "name": "python",
   "nbconvert_exporter": "python",
   "pygments_lexer": "ipython3",
   "version": "3.8.0"
  },
  "pycharm": {
   "stem_cell": {
    "cell_type": "raw",
    "source": [],
    "metadata": {
     "collapsed": false
    }
   }
  }
 },
 "nbformat": 4,
 "nbformat_minor": 4
}
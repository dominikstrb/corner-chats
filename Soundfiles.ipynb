{
 "cells": [
  {
   "cell_type": "code",
   "execution_count": 5,
   "metadata": {},
   "outputs": [],
   "source": [
    "import soundfile as sf\n",
    "import subprocess\n",
    "import os\n",
    "\n",
    "directory = \"/home/dominik/Downloads/Telegram Desktop/ChatExport_20_12_2019 (2)/voice_messages/\"\n",
    "seconds = 0.0\n",
    "longest = 0\n",
    "longest_file = None\n",
    "for filename in os.listdir(directory):\n",
    "    if filename.endswith(\".ogg\"):\n",
    "        wav_filename = filename[:-4] + \".wav\"\n",
    "        process = subprocess.run(['ffmpeg', '-i', os.path.join(directory, filename), os.path.join(directory, wav_filename)])\n",
    "        f = sf.SoundFile(os.path.join(directory, wav_filename))\n",
    "        length = len(f) / f.samplerate\n",
    "        if length > longest:\n",
    "            longest_file = wav_filename\n",
    "            longest = length\n",
    "        seconds += length\n",
    "    else:\n",
    "        continue"
   ]
  },
  {
   "cell_type": "code",
   "execution_count": 6,
   "metadata": {},
   "outputs": [
    {
     "data": {
      "text/plain": [
       "2.1770920833333336"
      ]
     },
     "execution_count": 6,
     "metadata": {},
     "output_type": "execute_result"
    }
   ],
   "source": [
    "seconds / 60 / 60"
   ]
  },
  {
   "cell_type": "code",
   "execution_count": 7,
   "metadata": {},
   "outputs": [
    {
     "data": {
      "text/plain": [
       "'audio_383@10-10-2019_18-05-07.wav'"
      ]
     },
     "execution_count": 7,
     "metadata": {},
     "output_type": "execute_result"
    }
   ],
   "source": [
    "longest_file"
   ]
  },
  {
   "cell_type": "code",
   "execution_count": 4,
   "metadata": {},
   "outputs": [
    {
     "data": {
      "text/plain": [
       "0"
      ]
     },
     "execution_count": 4,
     "metadata": {},
     "output_type": "execute_result"
    }
   ],
   "source": [
    "longest"
   ]
  },
  {
   "cell_type": "code",
   "execution_count": null,
   "metadata": {},
   "outputs": [],
   "source": []
  }
 ],
 "metadata": {
  "kernelspec": {
   "display_name": "Python 3",
   "language": "python",
   "name": "python3"
  },
  "language_info": {
   "codemirror_mode": {
    "name": "ipython",
    "version": 3
   },
   "file_extension": ".py",
   "mimetype": "text/x-python",
   "name": "python",
   "nbconvert_exporter": "python",
   "pygments_lexer": "ipython3",
   "version": "3.8.0"
  }
 },
 "nbformat": 4,
 "nbformat_minor": 4
}
